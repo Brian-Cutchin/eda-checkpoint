{
    "cells": [
        {
            "attachments": {},
            "cell_type": "markdown",
            "metadata": {
                "azdata_cell_guid": "151601c9-ca7a-412e-af80-c62a87e0837e"
            },
            "source": [
                "# Checkpoint Two: Exploratory Data Analysis\n",
                "\n",
                "Now that your chosen dataset is approved, it is time to start working on your analysis. Use this notebook to perform your EDA and make notes where directed to as you work.\n",
                "\n",
                "## Getting Started\n",
                "\n",
                "Since we have not provided your dataset for you, you will need to load the necessary files in this repository. Make sure to include a link back to the original dataset here as well.\n",
                "\n",
                "My dataset:  \n",
                "\n",
                "Your first task in EDA is to import necessary libraries and create a dataframe(s). Make note in the form of code comments of what your thought process is as you work on this setup task."
            ]
        },
        {
            "cell_type": "code",
            "execution_count": 67,
            "metadata": {
                "azdata_cell_guid": "7b503e37-6df5-4433-acfb-678b1346db14"
            },
            "outputs": [
                {
                    "name": "stdout",
                    "output_type": "stream",
                    "text": [
                        "<class 'pandas.core.frame.DataFrame'>\n",
                        "RangeIndex: 780 entries, 0 to 779\n",
                        "Data columns (total 11 columns):\n",
                        " #   Column                        Non-Null Count  Dtype  \n",
                        "---  ------                        --------------  -----  \n",
                        " 0   team name                     780 non-null    object \n",
                        " 1   team payroll                  780 non-null    int64  \n",
                        " 2   Wins                          780 non-null    int64  \n",
                        " 3   Losses                        780 non-null    int64  \n",
                        " 4   wpct                          780 non-null    float64\n",
                        " 5   mlb rk                        780 non-null    int64  \n",
                        " 6   year                          780 non-null    int64  \n",
                        " 7   Payroll Rank                  780 non-null    int64  \n",
                        " 8   Payroll Efficiency            780 non-null    int64  \n",
                        " 9   Wins above league average     780 non-null    float64\n",
                        " 10  Payroll above league average  780 non-null    float64\n",
                        "dtypes: float64(3), int64(7), object(1)\n",
                        "memory usage: 67.2+ KB\n",
                        "None\n",
                        "             team name  team payroll  Wins  Losses   wpct  mlb rk  year  \\\n",
                        "0    Baltimore Orioles      70408134    79      83  0.488      16  1998   \n",
                        "1     New York Yankees      63159898   114      48  0.704       1  1998   \n",
                        "2       Atlanta Braves      59536000   106      56  0.654       2  1998   \n",
                        "3  Cleveland Guardians      59033499    89      73  0.549       7  1998   \n",
                        "4        Texas Rangers      54704595    88      74  0.543       9  1998   \n",
                        "\n",
                        "   Payroll Rank  Payroll Efficiency  Wins above league average  \\\n",
                        "0             1                 -15                       -2.0   \n",
                        "1             2                   1                       33.0   \n",
                        "2             3                   1                       25.0   \n",
                        "3             4                  -3                        8.0   \n",
                        "4             5                  -4                        7.0   \n",
                        "\n",
                        "   Payroll above league average  \n",
                        "0                   30057056.23  \n",
                        "1                   22808820.23  \n",
                        "2                   19184922.23  \n",
                        "3                   18682421.23  \n",
                        "4                   14353517.23  \n"
                    ]
                }
            ],
            "source": [
                "import pandas as pd  #import pandas for reading csv and data manipulation\n",
                "#import matplotlib.pyplot as plt #import matplotlib to make graphs\n",
                "#import seaborn as sb #import seaborn to make graphs\n",
                "\n",
                "#create a data frame from csv\n",
                "df= pd.read_csv(r'C:\\Users\\bccut\\OneDrive\\Desktop\\LaunchCode\\eda-checkpoint\\combined_mlb_data.csv')\n",
                "\n",
                "# Print important info about the dataframe and see if it was uploaded correctly\n",
                "print(df.info())\n",
                "print(df.head())"
            ]
        },
        {
            "attachments": {},
            "cell_type": "markdown",
            "metadata": {
                "azdata_cell_guid": "129ce836-524b-4ea8-b394-a959f9308d6a"
            },
            "source": [
                "## Get to Know the Numbers\n",
                "\n",
                "Now that you have everything setup, put any code that you use to get to know the dataframe and its rows and columns better in the cell below. You can use whatever techniques you like, except for visualizations. You will put those in a separate section.\n",
                "\n",
                "When working on your code, make sure to leave comments so that your mentors can understand your thought process."
            ]
        },
        {
            "cell_type": "code",
            "execution_count": 50,
            "metadata": {
                "azdata_cell_guid": "0ca2d318-f6e8-43ef-a33e-5304d24d928d",
                "tags": []
            },
            "outputs": [
                {
                    "name": "stdout",
                    "output_type": "stream",
                    "text": [
                        "       team payroll        Wins      Losses        wpct      mlb rk  \\\n",
                        "count  7.800000e+02  780.000000  780.000000  780.000000  780.000000   \n",
                        "mean   9.659526e+07   79.006410   79.006410    0.499990   15.500000   \n",
                        "std    4.986357e+07   15.434859   15.409555    0.075281    8.660995   \n",
                        "min    9.202000e+06   19.000000   17.000000    0.265000    1.000000   \n",
                        "25%    6.043591e+07   71.000000   71.000000    0.444000    8.000000   \n",
                        "50%    8.698093e+07   80.000000   80.000000    0.500000   15.500000   \n",
                        "75%    1.235227e+08   90.000000   89.000000    0.556000   23.000000   \n",
                        "max    3.342333e+08  116.000000  119.000000    0.717000   30.000000   \n",
                        "\n",
                        "              year  Payroll Rank  Payroll Efficiency  \\\n",
                        "count   780.000000    780.000000           780.00000   \n",
                        "mean   2010.500000     15.500000             0.00000   \n",
                        "std       7.504812      8.660995             9.67853   \n",
                        "min    1998.000000      1.000000           -27.00000   \n",
                        "25%    2004.000000      8.000000            -6.00000   \n",
                        "50%    2010.500000     15.500000             0.00000   \n",
                        "75%    2017.000000     23.000000             6.00000   \n",
                        "max    2023.000000     30.000000            27.00000   \n",
                        "\n",
                        "       Wins above league average  Payroll above league average  \n",
                        "count               7.800000e+02                  7.800000e+02  \n",
                        "mean                1.102566e-10                 -1.727400e-04  \n",
                        "std                 1.190725e+01                  3.936325e+07  \n",
                        "min                -3.796667e+01                 -1.074846e+08  \n",
                        "25%                -8.933333e+00                 -2.606833e+07  \n",
                        "50%                 3.333333e-02                 -3.933160e+06  \n",
                        "75%                 9.000000e+00                  2.282513e+07  \n",
                        "max                 3.506667e+01                  1.858529e+08  \n",
                        "Index(['team name', 'team payroll', 'Wins', 'Losses', 'wpct', 'mlb rk', 'year',\n",
                        "       'Payroll Rank', 'Payroll Efficiency', 'Wins above league average',\n",
                        "       'Payroll above league average'],\n",
                        "      dtype='object')\n",
                        "\n",
                        "The count of team names in the data set equals: 30\n",
                        "\n",
                        "The highest team payroll form 1998-2023 is: 334233332\n"
                    ]
                }
            ],
            "source": [
                "# get summary stats for columns\n",
                "print(df.describe())  \n",
                "\n",
                "# column names\n",
                "print(df.columns)\n",
                "\n",
                "# count the number of unique team names this should equal 30\n",
                "print(f'\\nThe count of team names in the data set equals: {df.groupby('team name')['team name'].nunique().count()}')\n",
                "\n",
                "print(f'\\nThe highest team payroll form 1998-2023 is: {df['team payroll'].max()}')\n",
                "\n",
                "\n"
            ]
        },
        {
            "attachments": {},
            "cell_type": "markdown",
            "metadata": {
                "azdata_cell_guid": "d45060f3-97bc-484a-9ef4-66145bbe9427"
            },
            "source": [
                "## Visualize\n",
                "\n",
                "Create any visualizations for your EDA here. Make note in the form of code comments of what your thought process is for your visualizations."
            ]
        },
        {
            "cell_type": "code",
            "execution_count": null,
            "metadata": {
                "azdata_cell_guid": "f4565b03-759a-47a8-b58f-01b32a0b4b67"
            },
            "outputs": [],
            "source": [
                "import matplotlib.pyplot as plt #import matplotlib to make graphs\n",
                "import seaborn as sb #import seaborn to make graphs\n",
                "\n",
                "team_wins = df[['team name', 'Wins']]\n",
                "\n",
                "wins = team_wins.groupby('team name').agg({'Wins' : 'sum'})\n",
                "\n",
                "\n",
                "wins.plot(kind='bar')\n",
                "plt.xlabel('Team Name')\n",
                "plt.ylabel('Wins')\n",
                "plt.title('Total Wins by Team 1998-2023')\n",
                "plt.show()"
            ]
        },
        {
            "cell_type": "code",
            "execution_count": 19,
            "metadata": {
                "azdata_cell_guid": "cd64bab1-db4c-4295-820d-c6464b653a3e"
            },
            "outputs": [],
            "source": [
                "# Filter for St. Louis Cardinals data\n",
                "cardinals_data = df[df['team name'] == 'St. Louis Cardinals']\n",
                "\n",
                "# Create a line chart\n",
                "plt.plot(cardinals_data['year'], cardinals_data['team payroll'])\n",
                "\n",
                "# Add labels and title\n",
                "plt.xlabel('Year')\n",
                "plt.ylabel('Payroll')\n",
                "plt.title('St. Louis Cardinals Team Payroll (1998-2023)')\n",
                "\n",
                "plt.ticklabel_format(axis='y', style='plain', useLocale=True)\n",
                "\n",
                "# Show the plot\n",
                "plt.show()\n"
            ]
        },
        {
            "cell_type": "markdown",
            "metadata": {
                "azdata_cell_guid": "d4931c0c-2c09-4ee1-95d4-73dd08c2f0a6"
            },
            "source": [
                "## Summarize Your Results\n",
                "\n",
                "With your EDA complete, answer the following questions.\n",
                "\n",
                "1. Was there anything surprising about your dataset? No, nothing was suprising.\n",
                "2. Do you have any concerns about your dataset? No, this is a clean dataset.\n",
                "3. Is there anything you want to make note of for the next phase of your analysis, which is cleaning data? No."
            ]
        }
    ],
    "metadata": {
        "kernelspec": {
            "display_name": "Python 3",
            "language": "python",
            "name": "python3"
        },
        "language_info": {
            "codemirror_mode": {
                "name": "ipython",
                "version": 3
            },
            "file_extension": ".py",
            "mimetype": "text/x-python",
            "name": "python",
            "nbconvert_exporter": "python",
            "pygments_lexer": "ipython3",
            "version": "3.12.5"
        }
    },
    "nbformat": 4,
    "nbformat_minor": 2
}
